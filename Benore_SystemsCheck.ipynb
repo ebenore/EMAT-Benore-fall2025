{
 "cells": [
  {
   "cell_type": "markdown",
   "id": "3f130562-47ea-4a2d-ac27-cba2bcedb1c4",
   "metadata": {},
   "source": [
    "# Systems Test\n",
    "This is just text\n",
    "*This is italicized text*\n",
    "**This is bold text**\n",
    "\n",
    "## This is a subheading\n",
    "\n",
    "\n"
   ]
  },
  {
   "cell_type": "markdown",
   "id": "3e1647a0-811d-4cb6-a564-82d8afb3f802",
   "metadata": {},
   "source": [
    "## Hopes and Goals\n",
    "This is a list of what I hope to get out of the class\n",
    "\n",
    "1. Learn a lot more about Python\n",
    "2. Get more comfortable using the terminal in my computer\n",
    "3. To actually memorize these commands instead of searching everything on W3 Schools"
   ]
  },
  {
   "cell_type": "code",
   "execution_count": 3,
   "id": "3c318528-b87b-42d1-bb1b-814933f94bf3",
   "metadata": {
    "scrolled": true
   },
   "outputs": [
    {
     "name": "stdin",
     "output_type": "stream",
     "text": [
      "Enter your name:  ella\n"
     ]
    },
    {
     "name": "stdout",
     "output_type": "stream",
     "text": [
      "Hello ella\n"
     ]
    }
   ],
   "source": [
    "name = input(\"Enter your name: \")\n",
    "print(\"Hello\", name)\n"
   ]
  },
  {
   "cell_type": "code",
   "execution_count": null,
   "id": "3fd5529d-42e8-475b-a723-13ef9e8d7653",
   "metadata": {},
   "outputs": [],
   "source": []
  }
 ],
 "metadata": {
  "kernelspec": {
   "display_name": "Python [conda env:base] *",
   "language": "python",
   "name": "conda-base-py"
  },
  "language_info": {
   "codemirror_mode": {
    "name": "ipython",
    "version": 3
   },
   "file_extension": ".py",
   "mimetype": "text/x-python",
   "name": "python",
   "nbconvert_exporter": "python",
   "pygments_lexer": "ipython3",
   "version": "3.13.5"
  }
 },
 "nbformat": 4,
 "nbformat_minor": 5
}
