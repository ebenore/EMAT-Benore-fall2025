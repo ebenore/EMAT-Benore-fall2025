{
 "cells": [
  {
   "cell_type": "markdown",
   "id": "37ab401b-96bd-44e8-8d68-fddd297e0c1d",
   "metadata": {},
   "source": [
    "# Instagram Likes Report\n",
    "### Ella Benore, Sept. 10, 2025\n",
    "\n",
    "This is the report of my Instagram likes, made to analyze my data and form a hypothesis about it. This was made for our Likes Report assignment. "
   ]
  },
  {
   "cell_type": "markdown",
   "id": "d8fe1953-5c59-483d-93dc-2169d9757656",
   "metadata": {},
   "source": [
    "## Section 1\n",
    "Questions about data"
   ]
  },
  {
   "cell_type": "markdown",
   "id": "fa15b6b7-da45-488e-b498-97a9714d9582",
   "metadata": {},
   "source": [
    "## Section 2\n",
    "Open and load the json file"
   ]
  },
  {
   "cell_type": "code",
   "execution_count": 5,
   "id": "37b029a9-0b93-4032-9ff7-9acfd47d0aec",
   "metadata": {},
   "outputs": [],
   "source": [
    "import json \n",
    "import pandas as pd\n",
    "import matplotlib as plt"
   ]
  },
  {
   "cell_type": "code",
   "execution_count": 6,
   "id": "d31163ff-d65f-44a5-a2f6-a7c7b059f72f",
   "metadata": {},
   "outputs": [],
   "source": [
    "path = r\"/Users/ellabenore/Downloads/instagram-elbenore-2025-08-25-RMmhIScS/your_instagram_activity/likes/liked_posts.json\"\n",
    "with open(path) as l:\n",
    "    dict = json.load(l)"
   ]
  },
  {
   "cell_type": "markdown",
   "id": "6bfc0122-47dc-48c6-a07e-b6f4a8fbe096",
   "metadata": {},
   "source": [
    "## Section 3\n",
    "Converting the data into DataFrame object and assign it to a new variable using pandas DataFrame function"
   ]
  },
  {
   "cell_type": "code",
   "execution_count": 7,
   "id": "ca097ead-aee2-41e1-b065-435b49878d70",
   "metadata": {},
   "outputs": [
    {
     "data": {
      "text/html": [
       "<div>\n",
       "<style scoped>\n",
       "    .dataframe tbody tr th:only-of-type {\n",
       "        vertical-align: middle;\n",
       "    }\n",
       "\n",
       "    .dataframe tbody tr th {\n",
       "        vertical-align: top;\n",
       "    }\n",
       "\n",
       "    .dataframe thead th {\n",
       "        text-align: right;\n",
       "    }\n",
       "</style>\n",
       "<table border=\"1\" class=\"dataframe\">\n",
       "  <thead>\n",
       "    <tr style=\"text-align: right;\">\n",
       "      <th></th>\n",
       "      <th>likes_media_likes</th>\n",
       "    </tr>\n",
       "  </thead>\n",
       "  <tbody>\n",
       "    <tr>\n",
       "      <th>0</th>\n",
       "      <td>{'title': 'patriotickenny', 'string_list_data'...</td>\n",
       "    </tr>\n",
       "    <tr>\n",
       "      <th>1</th>\n",
       "      <td>{'title': 'trojanswomensrugby', 'string_list_d...</td>\n",
       "    </tr>\n",
       "    <tr>\n",
       "      <th>2</th>\n",
       "      <td>{'title': 'spotthedalmatiann', 'string_list_da...</td>\n",
       "    </tr>\n",
       "    <tr>\n",
       "      <th>3</th>\n",
       "      <td>{'title': 'loftedgoods', 'string_list_data': [...</td>\n",
       "    </tr>\n",
       "    <tr>\n",
       "      <th>4</th>\n",
       "      <td>{'title': 'dyslexic.hotdog.lover', 'string_lis...</td>\n",
       "    </tr>\n",
       "  </tbody>\n",
       "</table>\n",
       "</div>"
      ],
      "text/plain": [
       "                                   likes_media_likes\n",
       "0  {'title': 'patriotickenny', 'string_list_data'...\n",
       "1  {'title': 'trojanswomensrugby', 'string_list_d...\n",
       "2  {'title': 'spotthedalmatiann', 'string_list_da...\n",
       "3  {'title': 'loftedgoods', 'string_list_data': [...\n",
       "4  {'title': 'dyslexic.hotdog.lover', 'string_lis..."
      ]
     },
     "execution_count": 7,
     "metadata": {},
     "output_type": "execute_result"
    }
   ],
   "source": [
    "df = pd.DataFrame(dict)\n",
    "df.head()"
   ]
  },
  {
   "cell_type": "code",
   "execution_count": 8,
   "id": "519518a5-9c44-47cf-8ec4-aa158501e6fa",
   "metadata": {},
   "outputs": [
    {
     "data": {
      "text/plain": [
       "dict_keys(['likes_media_likes'])"
      ]
     },
     "execution_count": 8,
     "metadata": {},
     "output_type": "execute_result"
    }
   ],
   "source": [
    "dict.keys()"
   ]
  },
  {
   "cell_type": "code",
   "execution_count": 9,
   "id": "26c52d3d-26e4-4d86-ac5f-c4e7ae1129e9",
   "metadata": {},
   "outputs": [
    {
     "data": {
      "text/html": [
       "<div>\n",
       "<style scoped>\n",
       "    .dataframe tbody tr th:only-of-type {\n",
       "        vertical-align: middle;\n",
       "    }\n",
       "\n",
       "    .dataframe tbody tr th {\n",
       "        vertical-align: top;\n",
       "    }\n",
       "\n",
       "    .dataframe thead th {\n",
       "        text-align: right;\n",
       "    }\n",
       "</style>\n",
       "<table border=\"1\" class=\"dataframe\">\n",
       "  <thead>\n",
       "    <tr style=\"text-align: right;\">\n",
       "      <th></th>\n",
       "      <th>title</th>\n",
       "      <th>string_list_data</th>\n",
       "    </tr>\n",
       "  </thead>\n",
       "  <tbody>\n",
       "    <tr>\n",
       "      <th>0</th>\n",
       "      <td>patriotickenny</td>\n",
       "      <td>[{'href': 'https://www.instagram.com/reel/DNY-...</td>\n",
       "    </tr>\n",
       "    <tr>\n",
       "      <th>1</th>\n",
       "      <td>trojanswomensrugby</td>\n",
       "      <td>[{'href': 'https://www.instagram.com/reel/DNF-...</td>\n",
       "    </tr>\n",
       "    <tr>\n",
       "      <th>2</th>\n",
       "      <td>spotthedalmatiann</td>\n",
       "      <td>[{'href': 'https://www.instagram.com/reel/DNuE...</td>\n",
       "    </tr>\n",
       "    <tr>\n",
       "      <th>3</th>\n",
       "      <td>loftedgoods</td>\n",
       "      <td>[{'href': 'https://www.instagram.com/reel/DNN6...</td>\n",
       "    </tr>\n",
       "    <tr>\n",
       "      <th>4</th>\n",
       "      <td>dyslexic.hotdog.lover</td>\n",
       "      <td>[{'href': 'https://www.instagram.com/p/DNwVF7f...</td>\n",
       "    </tr>\n",
       "  </tbody>\n",
       "</table>\n",
       "</div>"
      ],
      "text/plain": [
       "                   title                                   string_list_data\n",
       "0         patriotickenny  [{'href': 'https://www.instagram.com/reel/DNY-...\n",
       "1     trojanswomensrugby  [{'href': 'https://www.instagram.com/reel/DNF-...\n",
       "2      spotthedalmatiann  [{'href': 'https://www.instagram.com/reel/DNuE...\n",
       "3            loftedgoods  [{'href': 'https://www.instagram.com/reel/DNN6...\n",
       "4  dyslexic.hotdog.lover  [{'href': 'https://www.instagram.com/p/DNwVF7f..."
      ]
     },
     "execution_count": 9,
     "metadata": {},
     "output_type": "execute_result"
    }
   ],
   "source": [
    "df_tidy = pd.DataFrame(dict['likes_media_likes'])\n",
    "df_tidy.head()"
   ]
  },
  {
   "cell_type": "markdown",
   "id": "b316116c-9ba9-42c5-9cf4-33030f734fb0",
   "metadata": {},
   "source": [
    "## Section 4\n",
    "Creating a new column in the DataFrame and assign to that column the timestamp values of each like.\n"
   ]
  },
  {
   "cell_type": "code",
   "execution_count": 10,
   "id": "465bcec8-b860-4eaf-80c4-2e53a09156c4",
   "metadata": {},
   "outputs": [
    {
     "data": {
      "text/plain": [
       "[{'href': 'https://www.instagram.com/reel/DNY-3-VxteI/',\n",
       "  'value': 'ð\\x9f\\x91\\x8d',\n",
       "  'timestamp': 1756086371}]"
      ]
     },
     "execution_count": 10,
     "metadata": {},
     "output_type": "execute_result"
    }
   ],
   "source": [
    "# Finding timeframe\n",
    "df_tidy['string_list_data'].iloc[0]"
   ]
  },
  {
   "cell_type": "code",
   "execution_count": 11,
   "id": "e722869e-a1dd-43eb-97b2-25bc77ae4b9d",
   "metadata": {},
   "outputs": [
    {
     "data": {
      "text/plain": [
       "list"
      ]
     },
     "execution_count": 11,
     "metadata": {},
     "output_type": "execute_result"
    }
   ],
   "source": [
    "type(df_tidy['string_list_data'].iloc[0]) #finding type of data, it is a list"
   ]
  },
  {
   "cell_type": "code",
   "execution_count": 12,
   "id": "8674ca38-da96-4cdd-8759-519e456f5906",
   "metadata": {},
   "outputs": [
    {
     "data": {
      "text/plain": [
       "1"
      ]
     },
     "execution_count": 12,
     "metadata": {},
     "output_type": "execute_result"
    }
   ],
   "source": [
    "len(df_tidy['string_list_data'].iloc[0]) #extracting the first value from the list"
   ]
  },
  {
   "cell_type": "code",
   "execution_count": 13,
   "id": "f08965eb-a952-45f0-8e6b-f3bd07df0bc9",
   "metadata": {},
   "outputs": [
    {
     "data": {
      "text/plain": [
       "{'href': 'https://www.instagram.com/reel/DNY-3-VxteI/',\n",
       " 'value': 'ð\\x9f\\x91\\x8d',\n",
       " 'timestamp': 1756086371}"
      ]
     },
     "execution_count": 13,
     "metadata": {},
     "output_type": "execute_result"
    }
   ],
   "source": [
    "# calling data agin\n",
    "df_tidy['string_list_data'].iloc[0][0]"
   ]
  },
  {
   "cell_type": "code",
   "execution_count": 14,
   "id": "f00ccdab-2d61-4ca1-bfaf-b2e68387e9fa",
   "metadata": {},
   "outputs": [
    {
     "data": {
      "text/plain": [
       "1756086371"
      ]
     },
     "execution_count": 14,
     "metadata": {},
     "output_type": "execute_result"
    }
   ],
   "source": [
    "df_tidy['string_list_data'].iloc[0][0]['timestamp']"
   ]
  },
  {
   "cell_type": "code",
   "execution_count": 15,
   "id": "5bbf12de-29df-4afe-9bfc-8982db9b0ebb",
   "metadata": {},
   "outputs": [
    {
     "data": {
      "text/html": [
       "<div>\n",
       "<style scoped>\n",
       "    .dataframe tbody tr th:only-of-type {\n",
       "        vertical-align: middle;\n",
       "    }\n",
       "\n",
       "    .dataframe tbody tr th {\n",
       "        vertical-align: top;\n",
       "    }\n",
       "\n",
       "    .dataframe thead th {\n",
       "        text-align: right;\n",
       "    }\n",
       "</style>\n",
       "<table border=\"1\" class=\"dataframe\">\n",
       "  <thead>\n",
       "    <tr style=\"text-align: right;\">\n",
       "      <th></th>\n",
       "      <th>title</th>\n",
       "      <th>string_list_data</th>\n",
       "      <th>Time of Like</th>\n",
       "    </tr>\n",
       "  </thead>\n",
       "  <tbody>\n",
       "    <tr>\n",
       "      <th>0</th>\n",
       "      <td>patriotickenny</td>\n",
       "      <td>[{'href': 'https://www.instagram.com/reel/DNY-...</td>\n",
       "      <td>1756086371</td>\n",
       "    </tr>\n",
       "    <tr>\n",
       "      <th>1</th>\n",
       "      <td>trojanswomensrugby</td>\n",
       "      <td>[{'href': 'https://www.instagram.com/reel/DNF-...</td>\n",
       "      <td>1756085692</td>\n",
       "    </tr>\n",
       "    <tr>\n",
       "      <th>2</th>\n",
       "      <td>spotthedalmatiann</td>\n",
       "      <td>[{'href': 'https://www.instagram.com/reel/DNuE...</td>\n",
       "      <td>1756085496</td>\n",
       "    </tr>\n",
       "    <tr>\n",
       "      <th>3</th>\n",
       "      <td>loftedgoods</td>\n",
       "      <td>[{'href': 'https://www.instagram.com/reel/DNN6...</td>\n",
       "      <td>1756085101</td>\n",
       "    </tr>\n",
       "    <tr>\n",
       "      <th>4</th>\n",
       "      <td>dyslexic.hotdog.lover</td>\n",
       "      <td>[{'href': 'https://www.instagram.com/p/DNwVF7f...</td>\n",
       "      <td>1756084576</td>\n",
       "    </tr>\n",
       "  </tbody>\n",
       "</table>\n",
       "</div>"
      ],
      "text/plain": [
       "                   title                                   string_list_data  \\\n",
       "0         patriotickenny  [{'href': 'https://www.instagram.com/reel/DNY-...   \n",
       "1     trojanswomensrugby  [{'href': 'https://www.instagram.com/reel/DNF-...   \n",
       "2      spotthedalmatiann  [{'href': 'https://www.instagram.com/reel/DNuE...   \n",
       "3            loftedgoods  [{'href': 'https://www.instagram.com/reel/DNN6...   \n",
       "4  dyslexic.hotdog.lover  [{'href': 'https://www.instagram.com/p/DNwVF7f...   \n",
       "\n",
       "   Time of Like  \n",
       "0    1756086371  \n",
       "1    1756085692  \n",
       "2    1756085496  \n",
       "3    1756085101  \n",
       "4    1756084576  "
      ]
     },
     "execution_count": 15,
     "metadata": {},
     "output_type": "execute_result"
    }
   ],
   "source": [
    "# creating a new column\n",
    "# every i element is 0,1,2,3,4\n",
    "df_tidy['Time of Like'] = [ i[0]['timestamp'] for i in df_tidy['string_list_data']]\n",
    "\n",
    "df_tidy.head()"
   ]
  },
  {
   "cell_type": "code",
   "execution_count": 16,
   "id": "0ee1cef5-23de-4c79-b644-0c343a153e34",
   "metadata": {},
   "outputs": [],
   "source": [
    "# good to have\n",
    "# creating another column for date of like\n",
    "from datetime import datetime\n",
    "df_tidy['Date of Like'] = [ datetime.fromtimestamp(i[0]['timestamp']) for i in df_tidy['string_list_data']]"
   ]
  },
  {
   "cell_type": "code",
   "execution_count": 17,
   "id": "926820e1-fe9a-4543-8a19-00aece641013",
   "metadata": {},
   "outputs": [
    {
     "data": {
      "text/html": [
       "<div>\n",
       "<style scoped>\n",
       "    .dataframe tbody tr th:only-of-type {\n",
       "        vertical-align: middle;\n",
       "    }\n",
       "\n",
       "    .dataframe tbody tr th {\n",
       "        vertical-align: top;\n",
       "    }\n",
       "\n",
       "    .dataframe thead th {\n",
       "        text-align: right;\n",
       "    }\n",
       "</style>\n",
       "<table border=\"1\" class=\"dataframe\">\n",
       "  <thead>\n",
       "    <tr style=\"text-align: right;\">\n",
       "      <th></th>\n",
       "      <th>title</th>\n",
       "      <th>string_list_data</th>\n",
       "      <th>Time of Like</th>\n",
       "      <th>Date of Like</th>\n",
       "    </tr>\n",
       "  </thead>\n",
       "  <tbody>\n",
       "    <tr>\n",
       "      <th>0</th>\n",
       "      <td>patriotickenny</td>\n",
       "      <td>[{'href': 'https://www.instagram.com/reel/DNY-...</td>\n",
       "      <td>1756086371</td>\n",
       "      <td>2025-08-24 21:46:11</td>\n",
       "    </tr>\n",
       "    <tr>\n",
       "      <th>1</th>\n",
       "      <td>trojanswomensrugby</td>\n",
       "      <td>[{'href': 'https://www.instagram.com/reel/DNF-...</td>\n",
       "      <td>1756085692</td>\n",
       "      <td>2025-08-24 21:34:52</td>\n",
       "    </tr>\n",
       "    <tr>\n",
       "      <th>2</th>\n",
       "      <td>spotthedalmatiann</td>\n",
       "      <td>[{'href': 'https://www.instagram.com/reel/DNuE...</td>\n",
       "      <td>1756085496</td>\n",
       "      <td>2025-08-24 21:31:36</td>\n",
       "    </tr>\n",
       "    <tr>\n",
       "      <th>3</th>\n",
       "      <td>loftedgoods</td>\n",
       "      <td>[{'href': 'https://www.instagram.com/reel/DNN6...</td>\n",
       "      <td>1756085101</td>\n",
       "      <td>2025-08-24 21:25:01</td>\n",
       "    </tr>\n",
       "    <tr>\n",
       "      <th>4</th>\n",
       "      <td>dyslexic.hotdog.lover</td>\n",
       "      <td>[{'href': 'https://www.instagram.com/p/DNwVF7f...</td>\n",
       "      <td>1756084576</td>\n",
       "      <td>2025-08-24 21:16:16</td>\n",
       "    </tr>\n",
       "  </tbody>\n",
       "</table>\n",
       "</div>"
      ],
      "text/plain": [
       "                   title                                   string_list_data  \\\n",
       "0         patriotickenny  [{'href': 'https://www.instagram.com/reel/DNY-...   \n",
       "1     trojanswomensrugby  [{'href': 'https://www.instagram.com/reel/DNF-...   \n",
       "2      spotthedalmatiann  [{'href': 'https://www.instagram.com/reel/DNuE...   \n",
       "3            loftedgoods  [{'href': 'https://www.instagram.com/reel/DNN6...   \n",
       "4  dyslexic.hotdog.lover  [{'href': 'https://www.instagram.com/p/DNwVF7f...   \n",
       "\n",
       "   Time of Like        Date of Like  \n",
       "0    1756086371 2025-08-24 21:46:11  \n",
       "1    1756085692 2025-08-24 21:34:52  \n",
       "2    1756085496 2025-08-24 21:31:36  \n",
       "3    1756085101 2025-08-24 21:25:01  \n",
       "4    1756084576 2025-08-24 21:16:16  "
      ]
     },
     "execution_count": 17,
     "metadata": {},
     "output_type": "execute_result"
    }
   ],
   "source": [
    "df_tidy.head()"
   ]
  },
  {
   "cell_type": "code",
   "execution_count": 18,
   "id": "66ff3474-9267-41ef-8be4-46260a88321f",
   "metadata": {},
   "outputs": [
    {
     "data": {
      "text/html": [
       "<div>\n",
       "<style scoped>\n",
       "    .dataframe tbody tr th:only-of-type {\n",
       "        vertical-align: middle;\n",
       "    }\n",
       "\n",
       "    .dataframe tbody tr th {\n",
       "        vertical-align: top;\n",
       "    }\n",
       "\n",
       "    .dataframe thead th {\n",
       "        text-align: right;\n",
       "    }\n",
       "</style>\n",
       "<table border=\"1\" class=\"dataframe\">\n",
       "  <thead>\n",
       "    <tr style=\"text-align: right;\">\n",
       "      <th></th>\n",
       "      <th>title</th>\n",
       "      <th>string_list_data</th>\n",
       "      <th>Time of Like</th>\n",
       "      <th>Date of Like</th>\n",
       "      <th>href</th>\n",
       "    </tr>\n",
       "  </thead>\n",
       "  <tbody>\n",
       "    <tr>\n",
       "      <th>0</th>\n",
       "      <td>patriotickenny</td>\n",
       "      <td>[{'href': 'https://www.instagram.com/reel/DNY-...</td>\n",
       "      <td>1756086371</td>\n",
       "      <td>2025-08-24 21:46:11</td>\n",
       "      <td>https://www.instagram.com/reel/DNY-3-VxteI/</td>\n",
       "    </tr>\n",
       "    <tr>\n",
       "      <th>1</th>\n",
       "      <td>trojanswomensrugby</td>\n",
       "      <td>[{'href': 'https://www.instagram.com/reel/DNF-...</td>\n",
       "      <td>1756085692</td>\n",
       "      <td>2025-08-24 21:34:52</td>\n",
       "      <td>https://www.instagram.com/reel/DNF-o1YoP66/</td>\n",
       "    </tr>\n",
       "    <tr>\n",
       "      <th>2</th>\n",
       "      <td>spotthedalmatiann</td>\n",
       "      <td>[{'href': 'https://www.instagram.com/reel/DNuE...</td>\n",
       "      <td>1756085496</td>\n",
       "      <td>2025-08-24 21:31:36</td>\n",
       "      <td>https://www.instagram.com/reel/DNuEGYh3BdW/</td>\n",
       "    </tr>\n",
       "    <tr>\n",
       "      <th>3</th>\n",
       "      <td>loftedgoods</td>\n",
       "      <td>[{'href': 'https://www.instagram.com/reel/DNN6...</td>\n",
       "      <td>1756085101</td>\n",
       "      <td>2025-08-24 21:25:01</td>\n",
       "      <td>https://www.instagram.com/reel/DNN6f_ZNp85/</td>\n",
       "    </tr>\n",
       "    <tr>\n",
       "      <th>4</th>\n",
       "      <td>dyslexic.hotdog.lover</td>\n",
       "      <td>[{'href': 'https://www.instagram.com/p/DNwVF7f...</td>\n",
       "      <td>1756084576</td>\n",
       "      <td>2025-08-24 21:16:16</td>\n",
       "      <td>https://www.instagram.com/p/DNwVF7fwDfh/</td>\n",
       "    </tr>\n",
       "  </tbody>\n",
       "</table>\n",
       "</div>"
      ],
      "text/plain": [
       "                   title                                   string_list_data  \\\n",
       "0         patriotickenny  [{'href': 'https://www.instagram.com/reel/DNY-...   \n",
       "1     trojanswomensrugby  [{'href': 'https://www.instagram.com/reel/DNF-...   \n",
       "2      spotthedalmatiann  [{'href': 'https://www.instagram.com/reel/DNuE...   \n",
       "3            loftedgoods  [{'href': 'https://www.instagram.com/reel/DNN6...   \n",
       "4  dyslexic.hotdog.lover  [{'href': 'https://www.instagram.com/p/DNwVF7f...   \n",
       "\n",
       "   Time of Like        Date of Like  \\\n",
       "0    1756086371 2025-08-24 21:46:11   \n",
       "1    1756085692 2025-08-24 21:34:52   \n",
       "2    1756085496 2025-08-24 21:31:36   \n",
       "3    1756085101 2025-08-24 21:25:01   \n",
       "4    1756084576 2025-08-24 21:16:16   \n",
       "\n",
       "                                          href  \n",
       "0  https://www.instagram.com/reel/DNY-3-VxteI/  \n",
       "1  https://www.instagram.com/reel/DNF-o1YoP66/  \n",
       "2  https://www.instagram.com/reel/DNuEGYh3BdW/  \n",
       "3  https://www.instagram.com/reel/DNN6f_ZNp85/  \n",
       "4     https://www.instagram.com/p/DNwVF7fwDfh/  "
      ]
     },
     "execution_count": 18,
     "metadata": {},
     "output_type": "execute_result"
    }
   ],
   "source": [
    "# adding column for href\n",
    "df_tidy['href'] = [ i[0]['href'] for i in df_tidy['string_list_data']]\n",
    "df_tidy.head()"
   ]
  },
  {
   "cell_type": "code",
   "execution_count": 19,
   "id": "28857486-d765-46d9-9a35-b9dfdfa914e9",
   "metadata": {},
   "outputs": [
    {
     "data": {
      "text/html": [
       "<div>\n",
       "<style scoped>\n",
       "    .dataframe tbody tr th:only-of-type {\n",
       "        vertical-align: middle;\n",
       "    }\n",
       "\n",
       "    .dataframe tbody tr th {\n",
       "        vertical-align: top;\n",
       "    }\n",
       "\n",
       "    .dataframe thead th {\n",
       "        text-align: right;\n",
       "    }\n",
       "</style>\n",
       "<table border=\"1\" class=\"dataframe\">\n",
       "  <thead>\n",
       "    <tr style=\"text-align: right;\">\n",
       "      <th></th>\n",
       "      <th>title</th>\n",
       "      <th>Time of Like</th>\n",
       "      <th>Date of Like</th>\n",
       "      <th>href</th>\n",
       "    </tr>\n",
       "  </thead>\n",
       "  <tbody>\n",
       "    <tr>\n",
       "      <th>0</th>\n",
       "      <td>patriotickenny</td>\n",
       "      <td>1756086371</td>\n",
       "      <td>2025-08-24 21:46:11</td>\n",
       "      <td>https://www.instagram.com/reel/DNY-3-VxteI/</td>\n",
       "    </tr>\n",
       "    <tr>\n",
       "      <th>1</th>\n",
       "      <td>trojanswomensrugby</td>\n",
       "      <td>1756085692</td>\n",
       "      <td>2025-08-24 21:34:52</td>\n",
       "      <td>https://www.instagram.com/reel/DNF-o1YoP66/</td>\n",
       "    </tr>\n",
       "    <tr>\n",
       "      <th>2</th>\n",
       "      <td>spotthedalmatiann</td>\n",
       "      <td>1756085496</td>\n",
       "      <td>2025-08-24 21:31:36</td>\n",
       "      <td>https://www.instagram.com/reel/DNuEGYh3BdW/</td>\n",
       "    </tr>\n",
       "    <tr>\n",
       "      <th>3</th>\n",
       "      <td>loftedgoods</td>\n",
       "      <td>1756085101</td>\n",
       "      <td>2025-08-24 21:25:01</td>\n",
       "      <td>https://www.instagram.com/reel/DNN6f_ZNp85/</td>\n",
       "    </tr>\n",
       "    <tr>\n",
       "      <th>4</th>\n",
       "      <td>dyslexic.hotdog.lover</td>\n",
       "      <td>1756084576</td>\n",
       "      <td>2025-08-24 21:16:16</td>\n",
       "      <td>https://www.instagram.com/p/DNwVF7fwDfh/</td>\n",
       "    </tr>\n",
       "    <tr>\n",
       "      <th>...</th>\n",
       "      <td>...</td>\n",
       "      <td>...</td>\n",
       "      <td>...</td>\n",
       "      <td>...</td>\n",
       "    </tr>\n",
       "    <tr>\n",
       "      <th>3655</th>\n",
       "      <td>marina_gia</td>\n",
       "      <td>1724723952</td>\n",
       "      <td>2024-08-26 21:59:12</td>\n",
       "      <td>https://www.instagram.com/p/C_JqXVNs0bX/</td>\n",
       "    </tr>\n",
       "    <tr>\n",
       "      <th>3656</th>\n",
       "      <td>jjjjjmoneyyyyy</td>\n",
       "      <td>1724723946</td>\n",
       "      <td>2024-08-26 21:59:06</td>\n",
       "      <td>https://www.instagram.com/p/C_Harj3NYWz/</td>\n",
       "    </tr>\n",
       "    <tr>\n",
       "      <th>3657</th>\n",
       "      <td>lylabrasher</td>\n",
       "      <td>1724690187</td>\n",
       "      <td>2024-08-26 12:36:27</td>\n",
       "      <td>https://www.instagram.com/p/C_G8a3UPUdZ/</td>\n",
       "    </tr>\n",
       "    <tr>\n",
       "      <th>3658</th>\n",
       "      <td>barstoolredhawks</td>\n",
       "      <td>1724690177</td>\n",
       "      <td>2024-08-26 12:36:17</td>\n",
       "      <td>https://www.instagram.com/reel/C_Iv8deOCK2/</td>\n",
       "    </tr>\n",
       "    <tr>\n",
       "      <th>3659</th>\n",
       "      <td>izzguti</td>\n",
       "      <td>1724683156</td>\n",
       "      <td>2024-08-26 10:39:16</td>\n",
       "      <td>https://www.instagram.com/p/C_GxwJPxY5D/</td>\n",
       "    </tr>\n",
       "  </tbody>\n",
       "</table>\n",
       "<p>3660 rows × 4 columns</p>\n",
       "</div>"
      ],
      "text/plain": [
       "                      title  Time of Like        Date of Like  \\\n",
       "0            patriotickenny    1756086371 2025-08-24 21:46:11   \n",
       "1        trojanswomensrugby    1756085692 2025-08-24 21:34:52   \n",
       "2         spotthedalmatiann    1756085496 2025-08-24 21:31:36   \n",
       "3               loftedgoods    1756085101 2025-08-24 21:25:01   \n",
       "4     dyslexic.hotdog.lover    1756084576 2025-08-24 21:16:16   \n",
       "...                     ...           ...                 ...   \n",
       "3655             marina_gia    1724723952 2024-08-26 21:59:12   \n",
       "3656         jjjjjmoneyyyyy    1724723946 2024-08-26 21:59:06   \n",
       "3657            lylabrasher    1724690187 2024-08-26 12:36:27   \n",
       "3658       barstoolredhawks    1724690177 2024-08-26 12:36:17   \n",
       "3659                izzguti    1724683156 2024-08-26 10:39:16   \n",
       "\n",
       "                                             href  \n",
       "0     https://www.instagram.com/reel/DNY-3-VxteI/  \n",
       "1     https://www.instagram.com/reel/DNF-o1YoP66/  \n",
       "2     https://www.instagram.com/reel/DNuEGYh3BdW/  \n",
       "3     https://www.instagram.com/reel/DNN6f_ZNp85/  \n",
       "4        https://www.instagram.com/p/DNwVF7fwDfh/  \n",
       "...                                           ...  \n",
       "3655     https://www.instagram.com/p/C_JqXVNs0bX/  \n",
       "3656     https://www.instagram.com/p/C_Harj3NYWz/  \n",
       "3657     https://www.instagram.com/p/C_G8a3UPUdZ/  \n",
       "3658  https://www.instagram.com/reel/C_Iv8deOCK2/  \n",
       "3659     https://www.instagram.com/p/C_GxwJPxY5D/  \n",
       "\n",
       "[3660 rows x 4 columns]"
      ]
     },
     "execution_count": 19,
     "metadata": {},
     "output_type": "execute_result"
    }
   ],
   "source": [
    "# dropping column\n",
    "df_tidy.drop(columns = ['string_list_data'])"
   ]
  },
  {
   "cell_type": "markdown",
   "id": "141ea2f0-6c47-42a3-9156-eca99f220b1f",
   "metadata": {},
   "source": [
    "## Section 5\n",
    "Summarize the number of likes by account using the groupby() and count() DataFrame methods from pandas."
   ]
  },
  {
   "cell_type": "code",
   "execution_count": 20,
   "id": "fbc8e33b-5e6b-4807-955f-9733f064c79e",
   "metadata": {},
   "outputs": [
    {
     "data": {
      "text/html": [
       "<div>\n",
       "<style scoped>\n",
       "    .dataframe tbody tr th:only-of-type {\n",
       "        vertical-align: middle;\n",
       "    }\n",
       "\n",
       "    .dataframe tbody tr th {\n",
       "        vertical-align: top;\n",
       "    }\n",
       "\n",
       "    .dataframe thead th {\n",
       "        text-align: right;\n",
       "    }\n",
       "</style>\n",
       "<table border=\"1\" class=\"dataframe\">\n",
       "  <thead>\n",
       "    <tr style=\"text-align: right;\">\n",
       "      <th></th>\n",
       "      <th>string_list_data</th>\n",
       "      <th>Time of Like</th>\n",
       "      <th>Date of Like</th>\n",
       "      <th>href</th>\n",
       "    </tr>\n",
       "    <tr>\n",
       "      <th>title</th>\n",
       "      <th></th>\n",
       "      <th></th>\n",
       "      <th></th>\n",
       "      <th></th>\n",
       "    </tr>\n",
       "  </thead>\n",
       "  <tbody>\n",
       "    <tr>\n",
       "      <th>memezar</th>\n",
       "      <td>155</td>\n",
       "      <td>155</td>\n",
       "      <td>155</td>\n",
       "      <td>155</td>\n",
       "    </tr>\n",
       "    <tr>\n",
       "      <th>barstoolredhawks</th>\n",
       "      <td>83</td>\n",
       "      <td>83</td>\n",
       "      <td>83</td>\n",
       "      <td>83</td>\n",
       "    </tr>\n",
       "    <tr>\n",
       "      <th>uraveragesmallperson_</th>\n",
       "      <td>75</td>\n",
       "      <td>75</td>\n",
       "      <td>75</td>\n",
       "      <td>75</td>\n",
       "    </tr>\n",
       "    <tr>\n",
       "      <th>jjjjjmoneyyyyy</th>\n",
       "      <td>54</td>\n",
       "      <td>54</td>\n",
       "      <td>54</td>\n",
       "      <td>54</td>\n",
       "    </tr>\n",
       "    <tr>\n",
       "      <th>ohio.queen11</th>\n",
       "      <td>45</td>\n",
       "      <td>45</td>\n",
       "      <td>45</td>\n",
       "      <td>45</td>\n",
       "    </tr>\n",
       "    <tr>\n",
       "      <th>...</th>\n",
       "      <td>...</td>\n",
       "      <td>...</td>\n",
       "      <td>...</td>\n",
       "      <td>...</td>\n",
       "    </tr>\n",
       "    <tr>\n",
       "      <th>goood.desmond</th>\n",
       "      <td>1</td>\n",
       "      <td>1</td>\n",
       "      <td>1</td>\n",
       "      <td>1</td>\n",
       "    </tr>\n",
       "    <tr>\n",
       "      <th>goonie__toons</th>\n",
       "      <td>1</td>\n",
       "      <td>1</td>\n",
       "      <td>1</td>\n",
       "      <td>1</td>\n",
       "    </tr>\n",
       "    <tr>\n",
       "      <th>goonbotube</th>\n",
       "      <td>1</td>\n",
       "      <td>1</td>\n",
       "      <td>1</td>\n",
       "      <td>1</td>\n",
       "    </tr>\n",
       "    <tr>\n",
       "      <th>googposting</th>\n",
       "      <td>1</td>\n",
       "      <td>1</td>\n",
       "      <td>1</td>\n",
       "      <td>1</td>\n",
       "    </tr>\n",
       "    <tr>\n",
       "      <th>zyn__tech</th>\n",
       "      <td>1</td>\n",
       "      <td>1</td>\n",
       "      <td>1</td>\n",
       "      <td>1</td>\n",
       "    </tr>\n",
       "  </tbody>\n",
       "</table>\n",
       "<p>2194 rows × 4 columns</p>\n",
       "</div>"
      ],
      "text/plain": [
       "                       string_list_data  Time of Like  Date of Like  href\n",
       "title                                                                    \n",
       "memezar                             155           155           155   155\n",
       "barstoolredhawks                     83            83            83    83\n",
       "uraveragesmallperson_                75            75            75    75\n",
       "jjjjjmoneyyyyy                       54            54            54    54\n",
       "ohio.queen11                         45            45            45    45\n",
       "...                                 ...           ...           ...   ...\n",
       "goood.desmond                         1             1             1     1\n",
       "goonie__toons                         1             1             1     1\n",
       "goonbotube                            1             1             1     1\n",
       "googposting                           1             1             1     1\n",
       "zyn__tech                             1             1             1     1\n",
       "\n",
       "[2194 rows x 4 columns]"
      ]
     },
     "execution_count": 20,
     "metadata": {},
     "output_type": "execute_result"
    }
   ],
   "source": [
    "# counting and sorting data by title\n",
    "df_tidy.groupby('title').count().sort_values('Time of Like', ascending = False)"
   ]
  },
  {
   "cell_type": "markdown",
   "id": "32360229-d594-40fc-8fbd-32dcc51bc09b",
   "metadata": {},
   "source": [
    "## Section 6\n",
    "\n",
    "#### Hypothesis\n",
    "My hypothesis is that when comparing the number of liked posts to the number of liked comments I have, there will be slightly more liked comments. If I like a post I typically will look through the comments and like a couple, so I think there will be more. The only thing that might prove me wrong would be my friends posts that I like because i typically don't like all of their comments. "
   ]
  },
  {
   "cell_type": "markdown",
   "id": "622a2f22-6c8a-439f-8b29-7e051b8cbcbe",
   "metadata": {},
   "source": [
    "## Section 7\n",
    "After reviewing the other files in your personal social media data, choose a JSON file that you think might help you test your hypothesis.<br>\n",
    "Explain what you think the JSON file contains and how it will help you test your hypothesis.\n",
    "\n",
    "#### Explaination\n",
    "I chose the json file that contained my saved posts. I believe it contains the names of accounts linked to the posts, timestamp, date when it was saved, and the number of posts I have saved over the last year. "
   ]
  },
  {
   "cell_type": "markdown",
   "id": "f19f3ba4-a35c-4a3e-9644-87917f63fe17",
   "metadata": {},
   "source": [
    "## Section 8\n",
    "For this selected JSON file:<br>\n",
    "Using a new code cell, open and load your chosen JSON file."
   ]
  },
  {
   "cell_type": "code",
   "execution_count": 21,
   "id": "fb583843-f059-498b-8515-acd69c90de9c",
   "metadata": {},
   "outputs": [],
   "source": [
    "path = r\"/Users/ellabenore/Downloads/instagram-elbenore-2025-08-25-RMmhIScS/your_instagram_activity/likes/liked_comments.json\"\n",
    "with open(path) as c:\n",
    "    dict = json.load(c)"
   ]
  },
  {
   "cell_type": "code",
   "execution_count": 22,
   "id": "a886ae33-e727-4876-b625-95cdc1d1238a",
   "metadata": {},
   "outputs": [
    {
     "data": {
      "text/html": [
       "<div>\n",
       "<style scoped>\n",
       "    .dataframe tbody tr th:only-of-type {\n",
       "        vertical-align: middle;\n",
       "    }\n",
       "\n",
       "    .dataframe tbody tr th {\n",
       "        vertical-align: top;\n",
       "    }\n",
       "\n",
       "    .dataframe thead th {\n",
       "        text-align: right;\n",
       "    }\n",
       "</style>\n",
       "<table border=\"1\" class=\"dataframe\">\n",
       "  <thead>\n",
       "    <tr style=\"text-align: right;\">\n",
       "      <th></th>\n",
       "      <th>likes_comment_likes</th>\n",
       "    </tr>\n",
       "  </thead>\n",
       "  <tbody>\n",
       "    <tr>\n",
       "      <th>0</th>\n",
       "      <td>{'title': 'ryrydegoon', 'string_list_data': [{...</td>\n",
       "    </tr>\n",
       "    <tr>\n",
       "      <th>1</th>\n",
       "      <td>{'title': 'bench_pressington', 'string_list_da...</td>\n",
       "    </tr>\n",
       "    <tr>\n",
       "      <th>2</th>\n",
       "      <td>{'title': 'sgtkarj', 'string_list_data': [{'hr...</td>\n",
       "    </tr>\n",
       "    <tr>\n",
       "      <th>3</th>\n",
       "      <td>{'title': 'deceasedemporium', 'string_list_dat...</td>\n",
       "    </tr>\n",
       "    <tr>\n",
       "      <th>4</th>\n",
       "      <td>{'title': 'ratgirl_ari', 'string_list_data': [...</td>\n",
       "    </tr>\n",
       "  </tbody>\n",
       "</table>\n",
       "</div>"
      ],
      "text/plain": [
       "                                 likes_comment_likes\n",
       "0  {'title': 'ryrydegoon', 'string_list_data': [{...\n",
       "1  {'title': 'bench_pressington', 'string_list_da...\n",
       "2  {'title': 'sgtkarj', 'string_list_data': [{'hr...\n",
       "3  {'title': 'deceasedemporium', 'string_list_dat...\n",
       "4  {'title': 'ratgirl_ari', 'string_list_data': [..."
      ]
     },
     "execution_count": 22,
     "metadata": {},
     "output_type": "execute_result"
    }
   ],
   "source": [
    "df = pd.DataFrame(dict)\n",
    "df.head()"
   ]
  },
  {
   "cell_type": "code",
   "execution_count": 23,
   "id": "dc0b98e1-5e0f-47af-8680-f2cac1defc18",
   "metadata": {},
   "outputs": [
    {
     "data": {
      "text/plain": [
       "dict_keys(['likes_comment_likes'])"
      ]
     },
     "execution_count": 23,
     "metadata": {},
     "output_type": "execute_result"
    }
   ],
   "source": [
    "dict.keys()"
   ]
  },
  {
   "cell_type": "markdown",
   "id": "d46588d5-ce02-4b7e-96b3-64ca689e3725",
   "metadata": {},
   "source": [
    "## Section 9\n",
    "Convert the data to the most \"tidy\" DataFrame object you can.<br>\n",
    "- Hint: Remember how a tidy DataFrame should be organized, and that this step may require you to explore and test multiple elements of the JSON before using the DataFrame() function.<br>\n",
    "- Display the first 10 rows of the DataFrame using the .head() method."
   ]
  },
  {
   "cell_type": "code",
   "execution_count": 25,
   "id": "d5dedfc9-643b-41d4-9f9f-a48fac2f7b0c",
   "metadata": {},
   "outputs": [
    {
     "data": {
      "text/html": [
       "<div>\n",
       "<style scoped>\n",
       "    .dataframe tbody tr th:only-of-type {\n",
       "        vertical-align: middle;\n",
       "    }\n",
       "\n",
       "    .dataframe tbody tr th {\n",
       "        vertical-align: top;\n",
       "    }\n",
       "\n",
       "    .dataframe thead th {\n",
       "        text-align: right;\n",
       "    }\n",
       "</style>\n",
       "<table border=\"1\" class=\"dataframe\">\n",
       "  <thead>\n",
       "    <tr style=\"text-align: right;\">\n",
       "      <th></th>\n",
       "      <th>title</th>\n",
       "      <th>string_list_data</th>\n",
       "    </tr>\n",
       "  </thead>\n",
       "  <tbody>\n",
       "    <tr>\n",
       "      <th>0</th>\n",
       "      <td>ryrydegoon</td>\n",
       "      <td>[{'href': 'https://www.instagram.com/reel/DNoA...</td>\n",
       "    </tr>\n",
       "    <tr>\n",
       "      <th>1</th>\n",
       "      <td>bench_pressington</td>\n",
       "      <td>[{'href': 'https://www.instagram.com/reel/DMRk...</td>\n",
       "    </tr>\n",
       "    <tr>\n",
       "      <th>2</th>\n",
       "      <td>sgtkarj</td>\n",
       "      <td>[{'href': 'https://www.instagram.com/reel/DMRk...</td>\n",
       "    </tr>\n",
       "    <tr>\n",
       "      <th>3</th>\n",
       "      <td>deceasedemporium</td>\n",
       "      <td>[{'href': 'https://www.instagram.com/reel/DMk-...</td>\n",
       "    </tr>\n",
       "    <tr>\n",
       "      <th>4</th>\n",
       "      <td>ratgirl_ari</td>\n",
       "      <td>[{'href': 'https://www.instagram.com/reel/DNLj...</td>\n",
       "    </tr>\n",
       "  </tbody>\n",
       "</table>\n",
       "</div>"
      ],
      "text/plain": [
       "               title                                   string_list_data\n",
       "0         ryrydegoon  [{'href': 'https://www.instagram.com/reel/DNoA...\n",
       "1  bench_pressington  [{'href': 'https://www.instagram.com/reel/DMRk...\n",
       "2            sgtkarj  [{'href': 'https://www.instagram.com/reel/DMRk...\n",
       "3   deceasedemporium  [{'href': 'https://www.instagram.com/reel/DMk-...\n",
       "4        ratgirl_ari  [{'href': 'https://www.instagram.com/reel/DNLj..."
      ]
     },
     "execution_count": 25,
     "metadata": {},
     "output_type": "execute_result"
    }
   ],
   "source": [
    "df_tidy = pd.DataFrame(dict['likes_comment_likes'])\n",
    "df_tidy.head()"
   ]
  },
  {
   "cell_type": "code",
   "execution_count": 26,
   "id": "d6eaaed2-35b1-4ecc-90bc-046cfea7876f",
   "metadata": {},
   "outputs": [
    {
     "data": {
      "text/plain": [
       "[{'href': 'https://www.instagram.com/reel/DNoAVoJtO-v/',\n",
       "  'value': 'ð\\x9f\\x91\\x8d',\n",
       "  'timestamp': 1756086531}]"
      ]
     },
     "execution_count": 26,
     "metadata": {},
     "output_type": "execute_result"
    }
   ],
   "source": [
    "# Finding timeframe\n",
    "df_tidy['string_list_data'].iloc[0]"
   ]
  },
  {
   "cell_type": "code",
   "execution_count": 27,
   "id": "c403eb06-5bbc-4b6c-bd94-760e3610b185",
   "metadata": {},
   "outputs": [
    {
     "data": {
      "text/plain": [
       "list"
      ]
     },
     "execution_count": 27,
     "metadata": {},
     "output_type": "execute_result"
    }
   ],
   "source": [
    "type(df_tidy['string_list_data'].iloc[0])"
   ]
  },
  {
   "cell_type": "code",
   "execution_count": 28,
   "id": "ab298289-9783-44d0-ae3e-ab20fbd5edfb",
   "metadata": {},
   "outputs": [
    {
     "data": {
      "text/plain": [
       "1"
      ]
     },
     "execution_count": 28,
     "metadata": {},
     "output_type": "execute_result"
    }
   ],
   "source": [
    "len(df_tidy['string_list_data'].iloc[0])"
   ]
  },
  {
   "cell_type": "code",
   "execution_count": 29,
   "id": "bbde15e6-0955-413b-a419-50bf11bfe5c5",
   "metadata": {},
   "outputs": [
    {
     "data": {
      "text/plain": [
       "{'href': 'https://www.instagram.com/reel/DNoAVoJtO-v/',\n",
       " 'value': 'ð\\x9f\\x91\\x8d',\n",
       " 'timestamp': 1756086531}"
      ]
     },
     "execution_count": 29,
     "metadata": {},
     "output_type": "execute_result"
    }
   ],
   "source": [
    "df_tidy['string_list_data'].iloc[0][0]"
   ]
  },
  {
   "cell_type": "code",
   "execution_count": 30,
   "id": "3e12b9c3-2061-48e5-90a2-5dd95bb637c2",
   "metadata": {},
   "outputs": [
    {
     "data": {
      "text/plain": [
       "1756086531"
      ]
     },
     "execution_count": 30,
     "metadata": {},
     "output_type": "execute_result"
    }
   ],
   "source": [
    "df_tidy['string_list_data'].iloc[0][0]['timestamp']"
   ]
  },
  {
   "cell_type": "code",
   "execution_count": 31,
   "id": "1d17c8c1-4014-48df-a560-2b8de47070bd",
   "metadata": {},
   "outputs": [
    {
     "data": {
      "text/html": [
       "<div>\n",
       "<style scoped>\n",
       "    .dataframe tbody tr th:only-of-type {\n",
       "        vertical-align: middle;\n",
       "    }\n",
       "\n",
       "    .dataframe tbody tr th {\n",
       "        vertical-align: top;\n",
       "    }\n",
       "\n",
       "    .dataframe thead th {\n",
       "        text-align: right;\n",
       "    }\n",
       "</style>\n",
       "<table border=\"1\" class=\"dataframe\">\n",
       "  <thead>\n",
       "    <tr style=\"text-align: right;\">\n",
       "      <th></th>\n",
       "      <th>title</th>\n",
       "      <th>string_list_data</th>\n",
       "      <th>Time of Comment</th>\n",
       "    </tr>\n",
       "  </thead>\n",
       "  <tbody>\n",
       "    <tr>\n",
       "      <th>0</th>\n",
       "      <td>ryrydegoon</td>\n",
       "      <td>[{'href': 'https://www.instagram.com/reel/DNoA...</td>\n",
       "      <td>1756086531</td>\n",
       "    </tr>\n",
       "    <tr>\n",
       "      <th>1</th>\n",
       "      <td>bench_pressington</td>\n",
       "      <td>[{'href': 'https://www.instagram.com/reel/DMRk...</td>\n",
       "      <td>1756086277</td>\n",
       "    </tr>\n",
       "    <tr>\n",
       "      <th>2</th>\n",
       "      <td>sgtkarj</td>\n",
       "      <td>[{'href': 'https://www.instagram.com/reel/DMRk...</td>\n",
       "      <td>1756086271</td>\n",
       "    </tr>\n",
       "    <tr>\n",
       "      <th>3</th>\n",
       "      <td>deceasedemporium</td>\n",
       "      <td>[{'href': 'https://www.instagram.com/reel/DMk-...</td>\n",
       "      <td>1756086239</td>\n",
       "    </tr>\n",
       "    <tr>\n",
       "      <th>4</th>\n",
       "      <td>ratgirl_ari</td>\n",
       "      <td>[{'href': 'https://www.instagram.com/reel/DNLj...</td>\n",
       "      <td>1756086218</td>\n",
       "    </tr>\n",
       "  </tbody>\n",
       "</table>\n",
       "</div>"
      ],
      "text/plain": [
       "               title                                   string_list_data  \\\n",
       "0         ryrydegoon  [{'href': 'https://www.instagram.com/reel/DNoA...   \n",
       "1  bench_pressington  [{'href': 'https://www.instagram.com/reel/DMRk...   \n",
       "2            sgtkarj  [{'href': 'https://www.instagram.com/reel/DMRk...   \n",
       "3   deceasedemporium  [{'href': 'https://www.instagram.com/reel/DMk-...   \n",
       "4        ratgirl_ari  [{'href': 'https://www.instagram.com/reel/DNLj...   \n",
       "\n",
       "   Time of Comment  \n",
       "0       1756086531  \n",
       "1       1756086277  \n",
       "2       1756086271  \n",
       "3       1756086239  \n",
       "4       1756086218  "
      ]
     },
     "execution_count": 31,
     "metadata": {},
     "output_type": "execute_result"
    }
   ],
   "source": [
    "# creating a new column\n",
    "# every i element is 0,1,2,3,4\n",
    "df_tidy['Time of Comment'] = [ i[0]['timestamp'] for i in df_tidy['string_list_data']]\n",
    "\n",
    "df_tidy.head()"
   ]
  },
  {
   "cell_type": "code",
   "execution_count": 32,
   "id": "265fbbe8-17e5-4627-9d38-447e5cb41d15",
   "metadata": {},
   "outputs": [],
   "source": [
    "# creating another column for date of like\n",
    "from datetime import datetime\n",
    "df_tidy['Date of Comment'] = [ datetime.fromtimestamp(i[0]['timestamp']) for i in df_tidy['string_list_data']]"
   ]
  },
  {
   "cell_type": "code",
   "execution_count": 33,
   "id": "b180d670-57b7-4def-8dee-bf12a011b1a6",
   "metadata": {},
   "outputs": [
    {
     "data": {
      "text/html": [
       "<div>\n",
       "<style scoped>\n",
       "    .dataframe tbody tr th:only-of-type {\n",
       "        vertical-align: middle;\n",
       "    }\n",
       "\n",
       "    .dataframe tbody tr th {\n",
       "        vertical-align: top;\n",
       "    }\n",
       "\n",
       "    .dataframe thead th {\n",
       "        text-align: right;\n",
       "    }\n",
       "</style>\n",
       "<table border=\"1\" class=\"dataframe\">\n",
       "  <thead>\n",
       "    <tr style=\"text-align: right;\">\n",
       "      <th></th>\n",
       "      <th>title</th>\n",
       "      <th>string_list_data</th>\n",
       "      <th>Time of Comment</th>\n",
       "      <th>Date of Comment</th>\n",
       "    </tr>\n",
       "  </thead>\n",
       "  <tbody>\n",
       "    <tr>\n",
       "      <th>0</th>\n",
       "      <td>ryrydegoon</td>\n",
       "      <td>[{'href': 'https://www.instagram.com/reel/DNoA...</td>\n",
       "      <td>1756086531</td>\n",
       "      <td>2025-08-24 21:48:51</td>\n",
       "    </tr>\n",
       "    <tr>\n",
       "      <th>1</th>\n",
       "      <td>bench_pressington</td>\n",
       "      <td>[{'href': 'https://www.instagram.com/reel/DMRk...</td>\n",
       "      <td>1756086277</td>\n",
       "      <td>2025-08-24 21:44:37</td>\n",
       "    </tr>\n",
       "    <tr>\n",
       "      <th>2</th>\n",
       "      <td>sgtkarj</td>\n",
       "      <td>[{'href': 'https://www.instagram.com/reel/DMRk...</td>\n",
       "      <td>1756086271</td>\n",
       "      <td>2025-08-24 21:44:31</td>\n",
       "    </tr>\n",
       "    <tr>\n",
       "      <th>3</th>\n",
       "      <td>deceasedemporium</td>\n",
       "      <td>[{'href': 'https://www.instagram.com/reel/DMk-...</td>\n",
       "      <td>1756086239</td>\n",
       "      <td>2025-08-24 21:43:59</td>\n",
       "    </tr>\n",
       "    <tr>\n",
       "      <th>4</th>\n",
       "      <td>ratgirl_ari</td>\n",
       "      <td>[{'href': 'https://www.instagram.com/reel/DNLj...</td>\n",
       "      <td>1756086218</td>\n",
       "      <td>2025-08-24 21:43:38</td>\n",
       "    </tr>\n",
       "  </tbody>\n",
       "</table>\n",
       "</div>"
      ],
      "text/plain": [
       "               title                                   string_list_data  \\\n",
       "0         ryrydegoon  [{'href': 'https://www.instagram.com/reel/DNoA...   \n",
       "1  bench_pressington  [{'href': 'https://www.instagram.com/reel/DMRk...   \n",
       "2            sgtkarj  [{'href': 'https://www.instagram.com/reel/DMRk...   \n",
       "3   deceasedemporium  [{'href': 'https://www.instagram.com/reel/DMk-...   \n",
       "4        ratgirl_ari  [{'href': 'https://www.instagram.com/reel/DNLj...   \n",
       "\n",
       "   Time of Comment     Date of Comment  \n",
       "0       1756086531 2025-08-24 21:48:51  \n",
       "1       1756086277 2025-08-24 21:44:37  \n",
       "2       1756086271 2025-08-24 21:44:31  \n",
       "3       1756086239 2025-08-24 21:43:59  \n",
       "4       1756086218 2025-08-24 21:43:38  "
      ]
     },
     "execution_count": 33,
     "metadata": {},
     "output_type": "execute_result"
    }
   ],
   "source": [
    "df_tidy.head()"
   ]
  },
  {
   "cell_type": "code",
   "execution_count": 34,
   "id": "75629dc7-e614-4bda-96f9-6104ac8009bf",
   "metadata": {},
   "outputs": [
    {
     "data": {
      "text/html": [
       "<div>\n",
       "<style scoped>\n",
       "    .dataframe tbody tr th:only-of-type {\n",
       "        vertical-align: middle;\n",
       "    }\n",
       "\n",
       "    .dataframe tbody tr th {\n",
       "        vertical-align: top;\n",
       "    }\n",
       "\n",
       "    .dataframe thead th {\n",
       "        text-align: right;\n",
       "    }\n",
       "</style>\n",
       "<table border=\"1\" class=\"dataframe\">\n",
       "  <thead>\n",
       "    <tr style=\"text-align: right;\">\n",
       "      <th></th>\n",
       "      <th>title</th>\n",
       "      <th>string_list_data</th>\n",
       "      <th>Time of Comment</th>\n",
       "      <th>Date of Comment</th>\n",
       "      <th>href</th>\n",
       "    </tr>\n",
       "  </thead>\n",
       "  <tbody>\n",
       "    <tr>\n",
       "      <th>0</th>\n",
       "      <td>ryrydegoon</td>\n",
       "      <td>[{'href': 'https://www.instagram.com/reel/DNoA...</td>\n",
       "      <td>1756086531</td>\n",
       "      <td>2025-08-24 21:48:51</td>\n",
       "      <td>https://www.instagram.com/reel/DNoAVoJtO-v/</td>\n",
       "    </tr>\n",
       "    <tr>\n",
       "      <th>1</th>\n",
       "      <td>bench_pressington</td>\n",
       "      <td>[{'href': 'https://www.instagram.com/reel/DMRk...</td>\n",
       "      <td>1756086277</td>\n",
       "      <td>2025-08-24 21:44:37</td>\n",
       "      <td>https://www.instagram.com/reel/DMRkbrnRgvY/</td>\n",
       "    </tr>\n",
       "    <tr>\n",
       "      <th>2</th>\n",
       "      <td>sgtkarj</td>\n",
       "      <td>[{'href': 'https://www.instagram.com/reel/DMRk...</td>\n",
       "      <td>1756086271</td>\n",
       "      <td>2025-08-24 21:44:31</td>\n",
       "      <td>https://www.instagram.com/reel/DMRkbrnRgvY/</td>\n",
       "    </tr>\n",
       "    <tr>\n",
       "      <th>3</th>\n",
       "      <td>deceasedemporium</td>\n",
       "      <td>[{'href': 'https://www.instagram.com/reel/DMk-...</td>\n",
       "      <td>1756086239</td>\n",
       "      <td>2025-08-24 21:43:59</td>\n",
       "      <td>https://www.instagram.com/reel/DMk-1nJI4Gv/</td>\n",
       "    </tr>\n",
       "    <tr>\n",
       "      <th>4</th>\n",
       "      <td>ratgirl_ari</td>\n",
       "      <td>[{'href': 'https://www.instagram.com/reel/DNLj...</td>\n",
       "      <td>1756086218</td>\n",
       "      <td>2025-08-24 21:43:38</td>\n",
       "      <td>https://www.instagram.com/reel/DNLjOFfos3Z/</td>\n",
       "    </tr>\n",
       "  </tbody>\n",
       "</table>\n",
       "</div>"
      ],
      "text/plain": [
       "               title                                   string_list_data  \\\n",
       "0         ryrydegoon  [{'href': 'https://www.instagram.com/reel/DNoA...   \n",
       "1  bench_pressington  [{'href': 'https://www.instagram.com/reel/DMRk...   \n",
       "2            sgtkarj  [{'href': 'https://www.instagram.com/reel/DMRk...   \n",
       "3   deceasedemporium  [{'href': 'https://www.instagram.com/reel/DMk-...   \n",
       "4        ratgirl_ari  [{'href': 'https://www.instagram.com/reel/DNLj...   \n",
       "\n",
       "   Time of Comment     Date of Comment  \\\n",
       "0       1756086531 2025-08-24 21:48:51   \n",
       "1       1756086277 2025-08-24 21:44:37   \n",
       "2       1756086271 2025-08-24 21:44:31   \n",
       "3       1756086239 2025-08-24 21:43:59   \n",
       "4       1756086218 2025-08-24 21:43:38   \n",
       "\n",
       "                                          href  \n",
       "0  https://www.instagram.com/reel/DNoAVoJtO-v/  \n",
       "1  https://www.instagram.com/reel/DMRkbrnRgvY/  \n",
       "2  https://www.instagram.com/reel/DMRkbrnRgvY/  \n",
       "3  https://www.instagram.com/reel/DMk-1nJI4Gv/  \n",
       "4  https://www.instagram.com/reel/DNLjOFfos3Z/  "
      ]
     },
     "execution_count": 34,
     "metadata": {},
     "output_type": "execute_result"
    }
   ],
   "source": [
    "# adding column for href\n",
    "df_tidy['href'] = [ i[0]['href'] for i in df_tidy['string_list_data']]\n",
    "df_tidy.head()"
   ]
  },
  {
   "cell_type": "code",
   "execution_count": 35,
   "id": "a6f6abc4-30bd-4250-ac3b-579d2472c70f",
   "metadata": {},
   "outputs": [
    {
     "data": {
      "text/html": [
       "<div>\n",
       "<style scoped>\n",
       "    .dataframe tbody tr th:only-of-type {\n",
       "        vertical-align: middle;\n",
       "    }\n",
       "\n",
       "    .dataframe tbody tr th {\n",
       "        vertical-align: top;\n",
       "    }\n",
       "\n",
       "    .dataframe thead th {\n",
       "        text-align: right;\n",
       "    }\n",
       "</style>\n",
       "<table border=\"1\" class=\"dataframe\">\n",
       "  <thead>\n",
       "    <tr style=\"text-align: right;\">\n",
       "      <th></th>\n",
       "      <th>title</th>\n",
       "      <th>Time of Comment</th>\n",
       "      <th>Date of Comment</th>\n",
       "      <th>href</th>\n",
       "    </tr>\n",
       "  </thead>\n",
       "  <tbody>\n",
       "    <tr>\n",
       "      <th>0</th>\n",
       "      <td>ryrydegoon</td>\n",
       "      <td>1756086531</td>\n",
       "      <td>2025-08-24 21:48:51</td>\n",
       "      <td>https://www.instagram.com/reel/DNoAVoJtO-v/</td>\n",
       "    </tr>\n",
       "    <tr>\n",
       "      <th>1</th>\n",
       "      <td>bench_pressington</td>\n",
       "      <td>1756086277</td>\n",
       "      <td>2025-08-24 21:44:37</td>\n",
       "      <td>https://www.instagram.com/reel/DMRkbrnRgvY/</td>\n",
       "    </tr>\n",
       "    <tr>\n",
       "      <th>2</th>\n",
       "      <td>sgtkarj</td>\n",
       "      <td>1756086271</td>\n",
       "      <td>2025-08-24 21:44:31</td>\n",
       "      <td>https://www.instagram.com/reel/DMRkbrnRgvY/</td>\n",
       "    </tr>\n",
       "    <tr>\n",
       "      <th>3</th>\n",
       "      <td>deceasedemporium</td>\n",
       "      <td>1756086239</td>\n",
       "      <td>2025-08-24 21:43:59</td>\n",
       "      <td>https://www.instagram.com/reel/DMk-1nJI4Gv/</td>\n",
       "    </tr>\n",
       "    <tr>\n",
       "      <th>4</th>\n",
       "      <td>ratgirl_ari</td>\n",
       "      <td>1756086218</td>\n",
       "      <td>2025-08-24 21:43:38</td>\n",
       "      <td>https://www.instagram.com/reel/DNLjOFfos3Z/</td>\n",
       "    </tr>\n",
       "    <tr>\n",
       "      <th>...</th>\n",
       "      <td>...</td>\n",
       "      <td>...</td>\n",
       "      <td>...</td>\n",
       "      <td>...</td>\n",
       "    </tr>\n",
       "    <tr>\n",
       "      <th>1146</th>\n",
       "      <td>biancadubovec</td>\n",
       "      <td>1727533065</td>\n",
       "      <td>2024-09-28 10:17:45</td>\n",
       "      <td>https://www.instagram.com/p/DAXN27YM8El/</td>\n",
       "    </tr>\n",
       "    <tr>\n",
       "      <th>1147</th>\n",
       "      <td>ayetjwrld</td>\n",
       "      <td>1727394763</td>\n",
       "      <td>2024-09-26 19:52:43</td>\n",
       "      <td>https://www.instagram.com/p/DAXN27YM8El/</td>\n",
       "    </tr>\n",
       "    <tr>\n",
       "      <th>1148</th>\n",
       "      <td>lylabrasher</td>\n",
       "      <td>1727316797</td>\n",
       "      <td>2024-09-25 22:13:17</td>\n",
       "      <td>https://www.instagram.com/p/DAXN27YM8El/</td>\n",
       "    </tr>\n",
       "    <tr>\n",
       "      <th>1149</th>\n",
       "      <td>jamiereardonn</td>\n",
       "      <td>1727316790</td>\n",
       "      <td>2024-09-25 22:13:10</td>\n",
       "      <td>https://www.instagram.com/p/DAXN27YM8El/</td>\n",
       "    </tr>\n",
       "    <tr>\n",
       "      <th>1150</th>\n",
       "      <td>aayyishaa</td>\n",
       "      <td>1726435604</td>\n",
       "      <td>2024-09-15 17:26:44</td>\n",
       "      <td>https://www.instagram.com/reel/C_fuR7GyTsj/</td>\n",
       "    </tr>\n",
       "  </tbody>\n",
       "</table>\n",
       "<p>1151 rows × 4 columns</p>\n",
       "</div>"
      ],
      "text/plain": [
       "                  title  Time of Comment     Date of Comment  \\\n",
       "0            ryrydegoon       1756086531 2025-08-24 21:48:51   \n",
       "1     bench_pressington       1756086277 2025-08-24 21:44:37   \n",
       "2               sgtkarj       1756086271 2025-08-24 21:44:31   \n",
       "3      deceasedemporium       1756086239 2025-08-24 21:43:59   \n",
       "4           ratgirl_ari       1756086218 2025-08-24 21:43:38   \n",
       "...                 ...              ...                 ...   \n",
       "1146      biancadubovec       1727533065 2024-09-28 10:17:45   \n",
       "1147          ayetjwrld       1727394763 2024-09-26 19:52:43   \n",
       "1148        lylabrasher       1727316797 2024-09-25 22:13:17   \n",
       "1149      jamiereardonn       1727316790 2024-09-25 22:13:10   \n",
       "1150          aayyishaa       1726435604 2024-09-15 17:26:44   \n",
       "\n",
       "                                             href  \n",
       "0     https://www.instagram.com/reel/DNoAVoJtO-v/  \n",
       "1     https://www.instagram.com/reel/DMRkbrnRgvY/  \n",
       "2     https://www.instagram.com/reel/DMRkbrnRgvY/  \n",
       "3     https://www.instagram.com/reel/DMk-1nJI4Gv/  \n",
       "4     https://www.instagram.com/reel/DNLjOFfos3Z/  \n",
       "...                                           ...  \n",
       "1146     https://www.instagram.com/p/DAXN27YM8El/  \n",
       "1147     https://www.instagram.com/p/DAXN27YM8El/  \n",
       "1148     https://www.instagram.com/p/DAXN27YM8El/  \n",
       "1149     https://www.instagram.com/p/DAXN27YM8El/  \n",
       "1150  https://www.instagram.com/reel/C_fuR7GyTsj/  \n",
       "\n",
       "[1151 rows x 4 columns]"
      ]
     },
     "execution_count": 35,
     "metadata": {},
     "output_type": "execute_result"
    }
   ],
   "source": [
    "# dropping column\n",
    "df_tidy.drop(columns = ['string_list_data'])"
   ]
  },
  {
   "cell_type": "code",
   "execution_count": 37,
   "id": "d893038a-9740-40de-a903-a944ad1cd120",
   "metadata": {},
   "outputs": [
    {
     "data": {
      "text/html": [
       "<div>\n",
       "<style scoped>\n",
       "    .dataframe tbody tr th:only-of-type {\n",
       "        vertical-align: middle;\n",
       "    }\n",
       "\n",
       "    .dataframe tbody tr th {\n",
       "        vertical-align: top;\n",
       "    }\n",
       "\n",
       "    .dataframe thead th {\n",
       "        text-align: right;\n",
       "    }\n",
       "</style>\n",
       "<table border=\"1\" class=\"dataframe\">\n",
       "  <thead>\n",
       "    <tr style=\"text-align: right;\">\n",
       "      <th></th>\n",
       "      <th>string_list_data</th>\n",
       "      <th>Time of Comment</th>\n",
       "      <th>Date of Comment</th>\n",
       "      <th>href</th>\n",
       "    </tr>\n",
       "    <tr>\n",
       "      <th>title</th>\n",
       "      <th></th>\n",
       "      <th></th>\n",
       "      <th></th>\n",
       "      <th></th>\n",
       "    </tr>\n",
       "  </thead>\n",
       "  <tbody>\n",
       "    <tr>\n",
       "      <th>biancadubovec</th>\n",
       "      <td>4</td>\n",
       "      <td>4</td>\n",
       "      <td>4</td>\n",
       "      <td>4</td>\n",
       "    </tr>\n",
       "    <tr>\n",
       "      <th>jamiereardonn</th>\n",
       "      <td>4</td>\n",
       "      <td>4</td>\n",
       "      <td>4</td>\n",
       "      <td>4</td>\n",
       "    </tr>\n",
       "    <tr>\n",
       "      <th>katepawlowskiii</th>\n",
       "      <td>4</td>\n",
       "      <td>4</td>\n",
       "      <td>4</td>\n",
       "      <td>4</td>\n",
       "    </tr>\n",
       "    <tr>\n",
       "      <th>sza</th>\n",
       "      <td>3</td>\n",
       "      <td>3</td>\n",
       "      <td>3</td>\n",
       "      <td>3</td>\n",
       "    </tr>\n",
       "    <tr>\n",
       "      <th>elsa.emling</th>\n",
       "      <td>3</td>\n",
       "      <td>3</td>\n",
       "      <td>3</td>\n",
       "      <td>3</td>\n",
       "    </tr>\n",
       "    <tr>\n",
       "      <th>...</th>\n",
       "      <td>...</td>\n",
       "      <td>...</td>\n",
       "      <td>...</td>\n",
       "      <td>...</td>\n",
       "    </tr>\n",
       "    <tr>\n",
       "      <th>friukzberroeta</th>\n",
       "      <td>1</td>\n",
       "      <td>1</td>\n",
       "      <td>1</td>\n",
       "      <td>1</td>\n",
       "    </tr>\n",
       "    <tr>\n",
       "      <th>frog_over_lord</th>\n",
       "      <td>1</td>\n",
       "      <td>1</td>\n",
       "      <td>1</td>\n",
       "      <td>1</td>\n",
       "    </tr>\n",
       "    <tr>\n",
       "      <th>fryguy_33</th>\n",
       "      <td>1</td>\n",
       "      <td>1</td>\n",
       "      <td>1</td>\n",
       "      <td>1</td>\n",
       "    </tr>\n",
       "    <tr>\n",
       "      <th>fudezuriyani</th>\n",
       "      <td>1</td>\n",
       "      <td>1</td>\n",
       "      <td>1</td>\n",
       "      <td>1</td>\n",
       "    </tr>\n",
       "    <tr>\n",
       "      <th>zuleykaaaa._</th>\n",
       "      <td>1</td>\n",
       "      <td>1</td>\n",
       "      <td>1</td>\n",
       "      <td>1</td>\n",
       "    </tr>\n",
       "  </tbody>\n",
       "</table>\n",
       "<p>1130 rows × 4 columns</p>\n",
       "</div>"
      ],
      "text/plain": [
       "                 string_list_data  Time of Comment  Date of Comment  href\n",
       "title                                                                    \n",
       "biancadubovec                   4                4                4     4\n",
       "jamiereardonn                   4                4                4     4\n",
       "katepawlowskiii                 4                4                4     4\n",
       "sza                             3                3                3     3\n",
       "elsa.emling                     3                3                3     3\n",
       "...                           ...              ...              ...   ...\n",
       "friukzberroeta                  1                1                1     1\n",
       "frog_over_lord                  1                1                1     1\n",
       "fryguy_33                       1                1                1     1\n",
       "fudezuriyani                    1                1                1     1\n",
       "zuleykaaaa._                    1                1                1     1\n",
       "\n",
       "[1130 rows x 4 columns]"
      ]
     },
     "execution_count": 37,
     "metadata": {},
     "output_type": "execute_result"
    }
   ],
   "source": [
    "# counting and sorting data by title\n",
    "df_tidy.groupby('title').count().sort_values('Time of Comment', ascending = False)"
   ]
  },
  {
   "cell_type": "markdown",
   "id": "9cb1e12d-5806-4346-824c-4bdc7a75bb6f",
   "metadata": {},
   "source": [
    "## Section 10\n",
    "In a Markdown cell, describe what you think the data in the DataFrame represents, whether the DataFrame meets tidy principles, and whether the data can be used to test your hypothesis.<br>\n",
    "There may not be a single right answer to this question, but your goal should be to describe what you understand from looking at the data, including mentioning things that were confusing or unclear from the data.\n",
    "\n",
    "### Explination \n",
    "My hypothesis was very wrong. I have nearly 3 times as many liked posts compared to liked comments. "
   ]
  },
  {
   "cell_type": "markdown",
   "id": "e8d3c45a-86b6-4c44-a7de-541a6c41bc26",
   "metadata": {},
   "source": []
  }
 ],
 "metadata": {
  "kernelspec": {
   "display_name": "Python 3 (ipykernel)",
   "language": "python",
   "name": "python3"
  },
  "language_info": {
   "codemirror_mode": {
    "name": "ipython",
    "version": 3
   },
   "file_extension": ".py",
   "mimetype": "text/x-python",
   "name": "python",
   "nbconvert_exporter": "python",
   "pygments_lexer": "ipython3",
   "version": "3.12.11"
  }
 },
 "nbformat": 4,
 "nbformat_minor": 5
}
